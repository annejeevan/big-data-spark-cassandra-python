{
 "cells": [
  {
   "cell_type": "markdown",
   "metadata": {},
   "source": [
    "Used dataset from the below link for predicting a class. \n",
    "https://archive.ics.uci.edu/ml/datasets/Human+Activity+Recognition+Using+Smartphones\n",
    "\n",
    "Below are the classes which we will be predicting\n",
    "1 WALKING,\n",
    "2 WALKING_UPSTAIRS,\n",
    "3 WALKING_DOWNSTAIRS,\n",
    "4 SITTING,\n",
    "5 STANDING,\n",
    "6 LAYING\n",
    "\n",
    "Attribute Information:\n",
    "\n",
    "For each record in the dataset it is provided: \n",
    "- Triaxial acceleration from the accelerometer (total acceleration) and the estimated body acceleration. \n",
    "- Triaxial Angular velocity from the gyroscope. \n",
    "- A 561-feature vector with time and frequency domain variables. \n",
    "- Its activity label. \n",
    "- An identifier of the subject who carried out the experiment.\n",
    "\n",
    "\n",
    "Relevant Papers:\n",
    "\n",
    "Davide Anguita, Alessandro Ghio, Luca Oneto, Xavier Parra and Jorge L. Reyes-Ortiz. Human Activity Recognition on Smartphones using a Multiclass Hardware-Friendly Support Vector Machine. International Workshop of Ambient Assisted Living (IWAAL 2012). Vitoria-Gasteiz, Spain. Dec 2012 \n"
   ]
  },
  {
   "cell_type": "code",
   "execution_count": 161,
   "metadata": {
    "collapsed": true
   },
   "outputs": [],
   "source": [
    "#Importing modules required\n",
    "from pyspark.mllib.classification import LogisticRegressionWithLBFGS, LogisticRegressionModel\n",
    "from pyspark.mllib.regression import LabeledPoint\n",
    "from time import time\n",
    "from pyspark.mllib.evaluation import MulticlassMetrics"
   ]
  },
  {
   "cell_type": "markdown",
   "metadata": {},
   "source": [
    "# Loading the data\n",
    "\n",
    "I have prepared the data in Unix before feeding the data to Saprk. Please follow below steps:\n",
    "\n",
    "After you download the data from the above link provided, we need to combine the actual data and label data for both train and test data for training the model and checking the accuracy on the test data\n",
    "\n",
    "Train Data:\n",
    "\n",
    "paste -d' ' X_train.txt y_train.txt >> train.txt\n",
    "\n",
    "#For transforming to a single space between in one line\n",
    "tr -s \" \"< train.txt  | cat > train_new.txt      \n",
    "\n",
    "Test Data:\n",
    "\n",
    "paste -d' ' y_test.txt X_test.txt >> X_test_new.txt \n",
    "\n",
    "tr -s \" \"< X_test_new.txt  | cat > test_new.txt \n",
    "\n",
    "\n"
   ]
  },
  {
   "cell_type": "code",
   "execution_count": 154,
   "metadata": {
    "collapsed": false
   },
   "outputs": [],
   "source": [
    "train = sc.textFile(\"/home/osboxes/Downloads/UCI HAR Dataset/train/train_new.txt\")\n",
    "test = sc.textFile(\"/home/osboxes/Downloads/UCI HAR Dataset/test/test_new.txt\")"
   ]
  },
  {
   "cell_type": "markdown",
   "metadata": {},
   "source": [
    "# Labeled Points\n",
    "\n",
    "A labeled point is a local vector associated with a label/response. In MLlib, labeled points are used in supervised learning algorithms and they are stored as doubles. For binary classification, a label should be either 0 (negative) or 1 (positive). For multiclass classification of K classes, a label can be 0, 1, ..., k-1 classes . Remember this is very important, as the class label, need to start from 0.\n",
    "\n",
    "# Preparing the Training and Testing Data\n",
    "We need to identify labels and features for input to the different models\n",
    "0 WALKING,\n",
    "1 WALKING_UPSTAIRS,\n",
    "2 WALKING_DOWNSTAIRS,\n",
    "3 SITTING,\n",
    "4 STANDING,\n",
    "5 LAYING\n"
   ]
  },
  {
   "cell_type": "code",
   "execution_count": 155,
   "metadata": {
    "collapsed": false
   },
   "outputs": [],
   "source": [
    "# Load and parse the data\n",
    "def parsePoint(line):\n",
    "    values = [float(x) for x in line.split(' ')]\n",
    "    return LabeledPoint(values[0]-1, values[1:])"
   ]
  },
  {
   "cell_type": "code",
   "execution_count": 156,
   "metadata": {
    "collapsed": false
   },
   "outputs": [
    {
     "data": {
      "text/plain": [
       "[LabeledPoint(4.0, [0.28858451,-0.020294171,-0.13290514,-0.9952786,-0.98311061,-0.91352645,-0.99511208,-0.98318457,-0.92352702,-0.93472378,-0.56737807,-0.74441253,0.85294738,0.68584458,0.81426278,-0.96552279,-0.99994465,-0.99986303,-0.99461218,-0.99423081,-0.98761392,-0.94321999,-0.40774707,-0.67933751,-0.60212187,0.92929351,-0.85301114,0.35990976,-0.058526382,0.25689154,-0.22484763,0.26410572,-0.09524563,0.27885143,-0.46508457,0.49193596,-0.19088356,0.37631389,0.43512919,0.66079033,0.96339614,-0.14083968,0.11537494,-0.98524969,-0.98170843,-0.87762497,-0.98500137,-0.98441622,-0.89467735,0.89205451,-0.16126549,0.12465977,0.97743631,-0.12321341,0.056482734,-0.37542596,0.89946864,-0.97090521,-0.97551037,-0.98432539,-0.98884915,-0.91774264,-1.0,-1.0,0.11380614,-0.590425,0.5911463,-0.59177346,0.59246928,-0.74544878,0.72086167,-0.71237239,0.71130003,-0.99511159,0.99567491,-0.99566759,0.99165268,0.57022164,0.43902735,0.98691312,0.077996345,0.0050008031,-0.067830808,-0.99351906,-0.98835999,-0.99357497,-0.99448763,-0.98620664,-0.99281835,-0.9851801,-0.99199423,-0.99311887,0.98983471,0.99195686,0.9905192,-0.99352201,-0.99993487,-0.99982045,-0.99987846,-0.99436404,-0.98602487,-0.98923361,-0.81994925,-0.79304645,-0.88885295,1.0,-0.22074703,0.63683075,0.38764356,0.24140146,-0.052252848,0.2641772,0.37343945,0.34177752,-0.56979119,0.26539882,-0.47787489,-0.3853005,0.033643943,-0.12651082,-0.0061008489,-0.031364791,0.1077254,-0.98531027,-0.97662344,-0.99220528,-0.98458626,-0.97635262,-0.99236164,-0.86704374,-0.93378602,-0.74756618,0.84730796,0.91489534,0.83084054,-0.96718428,-0.99957831,-0.99935432,-0.99976339,-0.98343808,-0.97861401,-0.99296558,0.082631682,0.20226765,-0.16875669,0.096323236,-0.27498511,0.49864419,-0.22031685,1.0,-0.97297139,0.31665451,0.37572641,0.72339919,-0.77111201,0.69021323,-0.33183104,0.70958377,0.13487336,0.30109948,-0.0991674,-0.055517369,-0.061985797,-0.99211067,-0.99251927,-0.99205528,-0.99216475,-0.99494156,-0.99261905,-0.99015585,-0.98674277,-0.99204155,0.99442876,0.99175581,0.98935195,-0.99445335,-0.99993755,-0.9999535,-0.99992294,-0.99229974,-0.99693892,-0.99224298,-0.58985096,-0.68845905,-0.57210686,0.29237634,-0.36199802,0.40554269,-0.039006951,0.98928381,-0.41456048,0.39160251,0.28225087,0.92726984,-0.57237001,0.6916192,0.46828982,-0.13107697,-0.087159695,0.33624748,-0.95943388,-0.9505515,-0.95799295,-0.94630524,-0.99255572,-0.95943388,-0.99849285,-0.9576374,-0.23258164,-0.17317874,-0.02289666,0.094831568,0.19181715,-0.95943388,-0.9505515,-0.95799295,-0.94630524,-0.99255572,-0.95943388,-0.99849285,-0.9576374,-0.23258164,-0.17317874,-0.02289666,0.094831568,0.19181715,-0.99330586,-0.99433641,-0.99450037,-0.99278399,-0.99120847,-0.99330586,-0.99989188,-0.9929337,-0.86341476,0.28308522,-0.23730869,-0.10543219,-0.038212313,-0.96895908,-0.96433518,-0.95724477,-0.97505986,-0.99155366,-0.96895908,-0.99928646,-0.94976582,0.072579035,0.57251142,-0.73860219,0.21257776,0.43340495,-0.99424782,-0.99136761,-0.99314298,-0.98893563,-0.99348603,-0.99424782,-0.99994898,-0.99454718,-0.61976763,0.29284049,-0.1768892,-0.14577921,-0.12407233,-0.99478319,-0.9829841,-0.93926865,-0.99542175,-0.98313297,-0.90616498,-0.99688864,-0.98451927,-0.932082,-0.99375634,-0.98316285,-0.88505422,-0.99396185,-0.99344611,-0.92342772,-0.97473271,-0.99996838,-0.99968911,-0.99489148,-0.99592602,-0.98970889,-0.98799115,-0.94635692,-0.90474776,-0.59130248,-1.0,-1.0,-1.0,0.2524829,0.13183575,-0.052050251,0.14205056,-0.1506825,-0.22054694,-0.55873853,0.24676868,-0.0074155206,-0.99996279,-0.9999865,-0.99997907,-0.99996244,-0.99993222,-0.99972512,-0.99967039,-0.99998582,-0.99996867,-0.99997686,-0.99986966,-0.99977613,-0.99997115,-0.99991925,-0.9996568,-0.99986046,-0.99986695,-0.99986301,-0.99973783,-0.9997322,-0.99949261,-0.99981364,-0.99968182,-0.9998394,-0.99973823,-0.99961197,-0.99968721,-0.99983863,-0.99359234,-0.99947584,-0.99966204,-0.9996423,-0.99929341,-0.99789222,-0.99593249,-0.99514642,-0.9947399,-0.99968826,-0.99892456,-0.99567134,-0.99487731,-0.99945439,-0.99233245,-0.98716991,-0.98969609,-0.99582068,-0.99093631,-0.99705167,-0.99380547,-0.99051869,-0.99699279,-0.99673689,-0.99197516,-0.99324167,-0.99834907,-0.99110842,-0.95988537,-0.99051499,-0.99993475,-0.99982048,-0.99988449,-0.99302626,-0.99137339,-0.99623962,-1.0,-1.0,-1.0,1.0,-0.24,-1.0,0.87038451,0.210697,0.26370789,-0.70368577,-0.90374251,-0.58257362,-0.93631005,-0.50734474,-0.80553591,-0.99998649,-0.9999796,-0.99997478,-0.99995513,-0.99991861,-0.99964011,-0.9994833,-0.99996087,-0.99998227,-0.99997072,-0.99981098,-0.99948472,-0.99998083,-0.99985189,-0.99993261,-0.99989993,-0.99982444,-0.99985982,-0.99972751,-0.99972876,-0.99956707,-0.99976524,-0.99990021,-0.9998149,-0.9997098,-0.99959608,-0.99985216,-0.9998221,-0.99939988,-0.99976559,-0.99995846,-0.99994951,-0.9998385,-0.99981351,-0.99878054,-0.99857783,-0.99961968,-0.99998359,-0.99982812,-0.99868068,-0.99984416,-0.99992792,-0.98657442,-0.98176153,-0.98951478,-0.98503264,-0.97388607,-0.99403493,-0.98653085,-0.98361636,-0.99235201,-0.98049843,-0.97227092,-0.99494426,-0.99756862,-0.9840851,-0.99433541,-0.98527621,-0.99986371,-0.99966608,-0.99993462,-0.99034389,-0.99483569,-0.99441158,-0.71240225,-0.64484236,-0.83899298,-1.0,-1.0,-1.0,-0.25754888,0.097947109,0.54715105,0.37731121,0.13409154,0.27337197,-0.091261831,-0.4843465,-0.7828507,-0.99986502,-0.99993178,-0.99997295,-0.99997018,-0.99993012,-0.99995862,-0.99992899,-0.99998465,-0.99986326,-0.99996815,-0.9999361,-0.99995363,-0.99986442,-0.99996098,-0.99945373,-0.99997811,-0.99999153,-0.9999901,-0.99996857,-0.99980657,-0.998346,-0.99896122,-0.99961874,-0.99998934,-0.9999354,-0.99838752,-0.99964264,-0.99997266,-0.99995535,-0.9999763,-0.99990583,-0.9999855,-0.99993717,-0.99975115,-0.99907227,-0.99992754,-0.99995158,-0.99990585,-0.99989269,-0.99944433,-0.99994099,-0.99995861,-0.95215466,-0.95613397,-0.94887014,-0.97432057,-0.92572179,-0.95215466,-0.9982852,-0.9732732,-0.64637645,-0.79310345,-0.08843612,-0.43647104,-0.79684048,-0.99372565,-0.99375495,-0.9919757,-0.99336472,-0.98817543,-0.99372565,-0.99991844,-0.99136366,-1.0,-0.93650794,0.34698853,-0.51608015,-0.80276003,-0.98013485,-0.96130944,-0.97365344,-0.95226383,-0.98949813,-0.98013485,-0.99924035,-0.99265553,-0.70129141,-1.0,-0.1289889,0.58615643,0.37460462,-0.99199044,-0.99069746,-0.98994084,-0.99244784,-0.99104773,-0.99199044,-0.99993676,-0.99045792,-0.8713058,-1.0,-0.074323027,-0.29867637,-0.71030407,-0.11275434,0.030400372,-0.46476139,-0.018445884,-0.84124676,0.17994061,-0.058626924])]"
      ]
     },
     "execution_count": 156,
     "metadata": {},
     "output_type": "execute_result"
    }
   ],
   "source": [
    "parsedData = train.map(parsePoint)\n",
    "parsedData1= test.map(parsePoint)\n",
    "parsedData.take(1)"
   ]
  },
  {
   "cell_type": "markdown",
   "metadata": {},
   "source": [
    "For multiclass classification problems, the algorithm will output a multinomial logistic regression model, which contains K−1K−1 binary logistic regression models regressed against the first class. Given a new data points, K−1K−1 models will be run, and the class with largest probability will be chosen as the predicted class.\n",
    "We implemented two algorithms to solve logistic regression: mini-batch gradient descent and L-BFGS. \n",
    "We recommend L-BFGS over mini-batch gradient descent for faster convergence."
   ]
  },
  {
   "cell_type": "code",
   "execution_count": 157,
   "metadata": {
    "collapsed": false
   },
   "outputs": [
    {
     "name": "stdout",
     "output_type": "stream",
     "text": [
      "Classifier trained in 18.941 seconds\n"
     ]
    }
   ],
   "source": [
    "# Build the model for multiclass prediction\n",
    "t0 = time()\n",
    "model = LogisticRegressionWithLBFGS.train(parsedData, numClasses=6)\n",
    "tt = time() - t0\n",
    "\n",
    "print \"Classifier trained in {} seconds\".format(round(tt,3))\n"
   ]
  },
  {
   "cell_type": "code",
   "execution_count": 158,
   "metadata": {
    "collapsed": false
   },
   "outputs": [
    {
     "name": "stdout",
     "output_type": "stream",
     "text": [
      "Training Error = 0.0174102285092\n"
     ]
    }
   ],
   "source": [
    "# Evaluating the model on training data\n",
    "labelsAndPreds = parsedData.map(lambda p: (p.label, model.predict(p.features)))\n",
    "trainErr = labelsAndPreds.filter(lambda (v, p): v != p).count() / float(parsedData.count())\n",
    "print(\"Training Error = \" + str(trainErr))"
   ]
  },
  {
   "cell_type": "markdown",
   "metadata": {},
   "source": [
    "# Evaluating the model on the new data (test data)\n",
    "\n",
    "In order to measure the classification error on our test data, we use map on the test_data RDD and the model to predict each test point class."
   ]
  },
  {
   "cell_type": "code",
   "execution_count": 159,
   "metadata": {
    "collapsed": false
   },
   "outputs": [
    {
     "name": "stdout",
     "output_type": "stream",
     "text": [
      "Prediction made in 2.94 seconds. Test accuracy is 0.9308\n"
     ]
    }
   ],
   "source": [
    "labels_and_preds = parsedData1.map(lambda p: (p.label, model.predict(p.features)))\n",
    "t0 = time()\n",
    "test_accuracy = labels_and_preds.filter(lambda (v, p): v == p).count() / float(parsedData1.count())\n",
    "tt = time() - t0\n",
    "print \"Prediction made in {} seconds. Test accuracy is {}\".format(round(tt,3), round(test_accuracy,4))\n"
   ]
  },
  {
   "cell_type": "code",
   "execution_count": 163,
   "metadata": {
    "collapsed": false
   },
   "outputs": [],
   "source": [
    "# Compute raw scores on the test set\n",
    "predictionAndLabels = parsedData1.map(lambda lp: (float(model.predict(lp.features)), lp.label))\n",
    "\n",
    "# Instantiate metrics object\n",
    "metrics = MulticlassMetrics(predictionAndLabels)"
   ]
  },
  {
   "cell_type": "code",
   "execution_count": 166,
   "metadata": {
    "collapsed": false
   },
   "outputs": [
    {
     "name": "stdout",
     "output_type": "stream",
     "text": [
      "Recall = 0.930777061418\n",
      "Precision = 0.930777061418\n",
      "Accuracy = 0.930777061418\n"
     ]
    }
   ],
   "source": [
    "# Summary stats\n",
    "print(\"Recall = %s\" % metrics.recall())\n",
    "print(\"Precision = %s\" % metrics.precision())\n",
    "print(\"Accuracy = %s\" % metrics.accuracy)"
   ]
  },
  {
   "cell_type": "code",
   "execution_count": 173,
   "metadata": {
    "collapsed": false
   },
   "outputs": [
    {
     "data": {
      "text/plain": [
       "[(4.0, 4.0),\n",
       " (4.0, 4.0),\n",
       " (4.0, 4.0),\n",
       " (4.0, 4.0),\n",
       " (4.0, 4.0),\n",
       " (4.0, 4.0),\n",
       " (4.0, 4.0),\n",
       " (4.0, 4.0),\n",
       " (4.0, 4.0),\n",
       " (4.0, 4.0),\n",
       " (4.0, 4.0),\n",
       " (4.0, 4.0),\n",
       " (4.0, 4.0),\n",
       " (4.0, 4.0),\n",
       " (4.0, 4.0),\n",
       " (4.0, 4.0),\n",
       " (4.0, 4.0),\n",
       " (4.0, 4.0),\n",
       " (4.0, 4.0),\n",
       " (4.0, 4.0),\n",
       " (4.0, 4.0),\n",
       " (4.0, 4.0),\n",
       " (4.0, 4.0),\n",
       " (4.0, 4.0),\n",
       " (4.0, 4.0),\n",
       " (4.0, 4.0),\n",
       " (4.0, 4.0),\n",
       " (4.0, 4.0),\n",
       " (4.0, 4.0),\n",
       " (4.0, 4.0),\n",
       " (4.0, 4.0),\n",
       " (3.0, 3.0),\n",
       " (3.0, 3.0),\n",
       " (3.0, 3.0),\n",
       " (3.0, 3.0),\n",
       " (3.0, 3.0),\n",
       " (3.0, 3.0),\n",
       " (3.0, 3.0),\n",
       " (4.0, 3.0),\n",
       " (3.0, 3.0),\n",
       " (3.0, 3.0),\n",
       " (3.0, 3.0),\n",
       " (4.0, 3.0),\n",
       " (4.0, 3.0),\n",
       " (3.0, 3.0),\n",
       " (3.0, 3.0),\n",
       " (3.0, 3.0),\n",
       " (3.0, 3.0),\n",
       " (3.0, 3.0),\n",
       " (3.0, 3.0)]"
      ]
     },
     "execution_count": 173,
     "metadata": {},
     "output_type": "execute_result"
    }
   ],
   "source": [
    "predictionAndLabels.count()\n",
    "predictionAndLabels.take(50)"
   ]
  },
  {
   "cell_type": "markdown",
   "metadata": {},
   "source": [
    "# Individual label stats"
   ]
  },
  {
   "cell_type": "code",
   "execution_count": 181,
   "metadata": {
    "collapsed": false
   },
   "outputs": [],
   "source": [
    "\n",
    "labels = predictionAndLabels.map(lambda x: x[1]).distinct().collect()\n"
   ]
  },
  {
   "cell_type": "code",
   "execution_count": 184,
   "metadata": {
    "collapsed": false
   },
   "outputs": [
    {
     "data": {
      "text/plain": [
       "[0.0, 1.0, 2.0, 3.0, 4.0, 5.0]"
      ]
     },
     "execution_count": 184,
     "metadata": {},
     "output_type": "execute_result"
    }
   ],
   "source": [
    "labels"
   ]
  },
  {
   "cell_type": "code",
   "execution_count": 186,
   "metadata": {
    "collapsed": false
   },
   "outputs": [
    {
     "name": "stdout",
     "output_type": "stream",
     "text": [
      "Class 0.0 precision = 0.890510948905\n",
      "Class 0.0 recall = 0.983870967742\n",
      "Class 1.0 precision = 0.948545861298\n",
      "Class 1.0 recall = 0.900212314225\n",
      "Class 2.0 precision = 0.964285714286\n",
      "Class 2.0 recall = 0.9\n",
      "Class 3.0 precision = 0.930283224401\n",
      "Class 3.0 recall = 0.869653767821\n",
      "Class 4.0 precision = 0.87260034904\n",
      "Class 4.0 recall = 0.93984962406\n",
      "Class 5.0 precision = 0.996212121212\n",
      "Class 5.0 recall = 0.979515828678\n"
     ]
    }
   ],
   "source": [
    "for label in labels:\n",
    "    print(\"Class %s precision = %s\" % (label, metrics.precision(label)))\n",
    "    print(\"Class %s recall = %s\" % (label, metrics.recall(label)))"
   ]
  }
 ],
 "metadata": {
  "kernelspec": {
   "display_name": "Python [default]",
   "language": "python",
   "name": "python2"
  },
  "language_info": {
   "codemirror_mode": {
    "name": "ipython",
    "version": 2
   },
   "file_extension": ".py",
   "mimetype": "text/x-python",
   "name": "python",
   "nbconvert_exporter": "python",
   "pygments_lexer": "ipython2",
   "version": "2.7.12"
  }
 },
 "nbformat": 4,
 "nbformat_minor": 2
}
